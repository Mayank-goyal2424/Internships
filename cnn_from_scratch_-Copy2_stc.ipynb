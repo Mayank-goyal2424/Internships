{
 "cells": [
  {
   "cell_type": "code",
   "execution_count": 1,
   "metadata": {},
   "outputs": [],
   "source": [
    "import numpy as np\n",
    "import math\n",
    "import time\n",
    "from copy import deepcopy\n",
    "        \n",
    "        \n",
    "class Conv3x3:\n",
    "        \n",
    "    def __init__(self, num_filters):\n",
    "        self.num_filters = num_filters\n",
    "        self.filters = np.random.randn(num_filters, 3, 3) / 9\n",
    "        #self.bias = np.random.randn(num_filters)/num_filters\n",
    "        #self.filters_1 = self.filters\n",
    "        self.t_for_np_loops = 0\n",
    "        self.t_for_conv = 0\n",
    "        self.t_back_prop = 0\n",
    "        #self.stc_indices = np.zeros(self.filters.shape)\n",
    "        \n",
    "        \n",
    "        \n",
    "    def iterate_regions(self, image):\n",
    "        \n",
    "        h, w = image.shape\n",
    "\n",
    "        for i in range(h - 2):\n",
    "              for j in range(w - 2):\n",
    "                im_region = image[i:(i + 3), j:(j + 3)]\n",
    "                yield im_region, i, j\n",
    "                \n",
    "    \n",
    "    def stc(self):\n",
    "        rho = 0.5\n",
    "        \n",
    "        w = self.filters.shape[1]*self.filters.shape[2]\n",
    "        \n",
    "        n = math.floor(rho*w)\n",
    "        \n",
    "       # print(n)\n",
    "        \n",
    "        d = {0:[],1:[],2:[],3:[],4:[],5:[],6:[],7:[]}\n",
    " \n",
    "    #        self.filters_1 = deepcopy(self.filters)\n",
    "        \n",
    "        \n",
    "        \n",
    "        for i in range(len(self.filters)):\n",
    "            \n",
    "            for _ in range(n): \n",
    "        \n",
    "                min = math.inf\n",
    "                for j in range(len(self.filters[i])):\n",
    "                    for k in range(len(self.filters[i][j])):\n",
    "                        if abs(self.filters[i,j,k]) < min:\n",
    "                            min = abs(self.filters[i,j,k])\n",
    "                            min_j = j\n",
    "                            min_k = k\n",
    "        \n",
    "                self.filters[i][min_j][min_k] = math.inf\n",
    "        \n",
    "            for j in range(len(self.filters[i])):\n",
    "                for k in range(len(self.filters[i][j])):\n",
    "                    if self.filters[i,j,k] == math.inf:\n",
    "                        self.filters[i,j,k] = 0\n",
    "\n",
    "        \n",
    "                    \n",
    "        for i in range(len(self.filters)):\n",
    "            \n",
    "            for j in range(len(self.filters[i])):\n",
    "            \n",
    "                for k in range(len(self.filters[i][j])):\n",
    "            \n",
    "                    if self.filters[i,j,k] > 0 :\n",
    "                        self.filters[i,j,k] = 1\n",
    "#                         #self.stc_indices[i,j,k] = 1\n",
    "                        d[i].append([j,k,1])\n",
    "            \n",
    "                    elif self.filters[i,j,k] < 0 :\n",
    "                        self.filters[i,j,k] = -1\n",
    "#                         #self.stc_indices[i,j,k] = 1\n",
    "                        d[i].append([j,k,-1])\n",
    "                        \n",
    "                        \n",
    "                        \n",
    "        return d\n",
    "        \n",
    "\n",
    "    def forward(self, input):\n",
    "        \n",
    "        v = time.time()\n",
    "       \n",
    "        d = self.stc()\n",
    "        \n",
    "        u = time.time()\n",
    "        \n",
    "        self.t_for_np_loops += u-v\n",
    "        \n",
    "\n",
    "        \n",
    "        self.last_input = input\n",
    "\n",
    "        h, w = input.shape\n",
    "        \n",
    "        \n",
    "        output = np.zeros((h - 2, w - 2, self.num_filters))\n",
    "        \n",
    "        x = time.time()\n",
    "\n",
    "        for i in range(h - 2):\n",
    "              for j in range(w - 2):\n",
    "                    \n",
    "                    im_region = input[i:(i + 3), j:(j + 3)]\n",
    "                    \n",
    "                    for k in range(self.num_filters):\n",
    "                            for ele in d[k]:\n",
    "                                \n",
    "                                if ele[2] == 1:\n",
    "                                    \n",
    "                                    output[i, j,k] += im_region[ele[0],ele[1]]\n",
    "                                \n",
    "                                else:\n",
    "                                    \n",
    "                                    output[i, j,k] += -(im_region[ele[0],ele[1]])\n",
    "                                \n",
    "                            output[i, j,k] = np.maximum(0,output[i, j,k])\n",
    "        \n",
    "        \n",
    "#         for im_region, i, j in self.iterate_regions(input):\n",
    "#               output[i, j] = np.sum(im_region * self.filters_1, axis=(1, 2))\n",
    "\n",
    "        \n",
    "                \n",
    "        z = time.time()\n",
    "        \n",
    "        self.t_for_conv += z-u\n",
    "        \n",
    "        \n",
    "        \n",
    "        return output\n",
    "    \n",
    "\n",
    "    def backprop(self, d_L_d_out, learn_rate):\n",
    "        \n",
    "        #print(d_L_d_out)\n",
    "        \n",
    "        bck1 = time.time()\n",
    "        \n",
    "        \n",
    "        d_L_d_filters = np.zeros(self.filters.shape)\n",
    "        \n",
    "        \n",
    "\n",
    "        for im_region, i, j in self.iterate_regions(self.last_input):\n",
    "              for f in range(self.num_filters):\n",
    "                d_L_d_filters[f] += d_L_d_out[i, j, f] * im_region\n",
    "\n",
    "#         d_L_d_b = np.zeros(self.bias.shape)\n",
    "        \n",
    "#         for f in range(self.num_filters):\n",
    "#                 d_L_d_b[f] += np.sum(d_L_d_out[:, :, f])\n",
    "#         self.bias -= learn_rate * d_L_d_b\n",
    "        \n",
    "        self.filters -= learn_rate * d_L_d_filters\n",
    "        \n",
    "        self.filters = np.clip(self.filters,-1,1)\n",
    "\n",
    "        bck2 = time.time()\n",
    "        \n",
    "        self.t_back_prop += bck2 - bck1\n",
    "        \n",
    "        return None\n",
    "                    \n",
    "    \n",
    "    \n"
   ]
  },
  {
   "cell_type": "code",
   "execution_count": 2,
   "metadata": {},
   "outputs": [],
   "source": [
    "import numpy as np\n",
    "\n",
    "class MaxPool2:\n",
    "    \n",
    "    def iterate_regions(self, image):\n",
    "        h, w, _ = image.shape\n",
    "        new_h = h // 2\n",
    "        new_w = w // 2\n",
    "    \n",
    "        for i in range(new_h):\n",
    "            for j in range(new_w):\n",
    "                im_region = image[(i * 2):(i * 2 + 2), (j * 2):(j * 2 + 2)]\n",
    "                yield im_region, i, j\n",
    "    \n",
    "    def forward(self, input):\n",
    "    \n",
    "        self.last_input = input\n",
    "\n",
    "        h, w, num_filters = input.shape\n",
    "        output = np.zeros((h // 2, w // 2, num_filters))\n",
    "\n",
    "        for im_region, i, j in self.iterate_regions(input):\n",
    "            output[i, j] = np.amax(im_region, axis=(0, 1))\n",
    "\n",
    "        return output\n",
    "\n",
    "    def backprop(self, d_L_d_out):\n",
    "       \n",
    "        d_L_d_input = np.zeros(self.last_input.shape)\n",
    "\n",
    "        for im_region, i, j in self.iterate_regions(self.last_input):\n",
    "            h, w, f = im_region.shape\n",
    "            amax = np.amax(im_region, axis=(0, 1))\n",
    "\n",
    "            for i2 in range(h):\n",
    "                for j2 in range(w):\n",
    "                      for f2 in range(f):\n",
    "                        # If this pixel was the max value, copy the gradient to it.\n",
    "                            if im_region[i2, j2, f2] == amax[f2]:\n",
    "                                  d_L_d_input[i * 2 + i2, j * 2 + j2, f2] = d_L_d_out[i, j, f2]\n",
    "                                    \n",
    "        d_L_d_input[self.last_input<0] = 0\n",
    "\n",
    "        return d_L_d_input"
   ]
  },
  {
   "cell_type": "code",
   "execution_count": 3,
   "metadata": {},
   "outputs": [],
   "source": [
    "import numpy as np\n",
    "\n",
    "class Softmax:\n",
    "\n",
    "    def __init__(self, input_len, nodes):\n",
    "        self.weights = np.random.randn(input_len, nodes) / input_len\n",
    "        self.biases = np.zeros(nodes)\n",
    "\n",
    "    def forward(self, input):\n",
    "        \n",
    "        self.last_input_shape = input.shape\n",
    "\n",
    "        input = input.flatten()\n",
    "        self.last_input = input\n",
    "\n",
    "        input_len, nodes = self.weights.shape\n",
    "\n",
    "        totals = np.dot(input, self.weights) + self.biases\n",
    "        self.last_totals = totals\n",
    "\n",
    "        exp = np.exp(totals)\n",
    "        return exp / np.sum(exp, axis=0)\n",
    "\n",
    "    def backprop(self, d_L_d_out, learn_rate):\n",
    "        \n",
    "        for i, gradient in enumerate(d_L_d_out):\n",
    "            if gradient == 0:\n",
    "                continue\n",
    "\n",
    "            t_exp = np.exp(self.last_totals)\n",
    "\n",
    "            S = np.sum(t_exp)\n",
    "\n",
    "            d_out_d_t = -t_exp[i] * t_exp / (S ** 2)\n",
    "            d_out_d_t[i] = t_exp[i] * (S - t_exp[i]) / (S ** 2)\n",
    "\n",
    "            d_t_d_w = self.last_input\n",
    "            d_t_d_b = 1\n",
    "            d_t_d_inputs = self.weights\n",
    "\n",
    "            d_L_d_t = gradient * d_out_d_t\n",
    "\n",
    "            d_L_d_w = d_t_d_w[np.newaxis].T @ d_L_d_t[np.newaxis]\n",
    "            d_L_d_b = d_L_d_t * d_t_d_b\n",
    "            d_L_d_inputs = d_t_d_inputs @ d_L_d_t\n",
    "\n",
    "            self.weights -= learn_rate * d_L_d_w\n",
    "            self.biases -= learn_rate * d_L_d_b\n",
    "\n",
    "            return d_L_d_inputs.reshape(self.last_input_shape)"
   ]
  },
  {
   "cell_type": "code",
   "execution_count": 4,
   "metadata": {},
   "outputs": [],
   "source": [
    "from mnist import MNIST\n",
    "\n",
    "mndata = MNIST(r'C:\\Users\\krish\\OneDrive\\Documents\\krishna\\sem6\\DL\\mnist')\n",
    "\n",
    "mndata.gz = True\n",
    "\n",
    "train_images = np.zeros([400,28,28])\n",
    "test_images = np.zeros([100,28,28])\n",
    "\n",
    "\n",
    "images_tr,train_labels = mndata.load_training()\n",
    "images_tr = np.array(images_tr[:400])\n",
    "train_labels = np.array(train_labels[:400])\n",
    "    \n",
    "\n",
    "images_ts1,test_labels = mndata.load_testing()\n",
    "images_ts = np.array(images_ts1[:100])\n",
    "test_labels = np.array(test_labels[0:100])\n",
    "\n",
    "\n",
    "for i in range(400):\n",
    "    train_images[i] = images_tr[i].reshape(28,28) \n",
    "    \n",
    "for i in range(100):\n",
    "    test_images[i] = images_ts[i].reshape(28,28)\n",
    "    \n",
    "#print(train_images[0])"
   ]
  },
  {
   "cell_type": "code",
   "execution_count": 5,
   "metadata": {},
   "outputs": [
    {
     "name": "stdout",
     "output_type": "stream",
     "text": [
      "--- Epoch 1 ---\n",
      "after epoch1loss is 0.4003378448149679accuracy is0.276\n",
      "--- Epoch 2 ---\n",
      "after epoch2loss is 0.1659455947680067accuracy is0.346\n",
      "--- Epoch 3 ---\n",
      "after epoch3loss is 0.10378644490645153accuracy is0.372\n",
      "Testing on test data set\n",
      "Loss on test dataset: 0.6980520137512619\n",
      " Accuracy on test dataset: 0.77\n",
      "total time taken is : 106.15123319625854\n",
      "time taken for forward prop is 55.560298681259155  seconds\n",
      "time taken for forward prop is 39.738919496536255  seconds\n"
     ]
    }
   ],
   "source": [
    "import mnist\n",
    "import numpy as np\n",
    "import time\n",
    "\n",
    "conv = Conv3x3(8)\n",
    "pool = MaxPool2()                  \n",
    "softmax = Softmax(13 * 13 * 8, 10) \n",
    "\n",
    "def forward(image, label): \n",
    "    \n",
    "    out = conv.forward((image / 255) )\n",
    "    out = pool.forward(out)\n",
    "    out = softmax.forward(out)\n",
    "    \n",
    "    \n",
    "    loss = -np.log(out[label])\n",
    "    acc = 1 if np.argmax(out) == label else 0\n",
    "\n",
    "    return out, loss, acc\n",
    "\n",
    "def train(im, label, lr=.005):\n",
    "   \n",
    "    out, loss, acc = forward(im, label)\n",
    "\n",
    "    gradient = np.zeros(10)\n",
    "    gradient[label] = -1 / out[label]\n",
    "\n",
    "    gradient = softmax.backprop(gradient, lr)\n",
    "    gradient = pool.backprop(gradient)\n",
    "    gradient = conv.backprop(gradient, lr)\n",
    "    \n",
    "    return loss, acc\n",
    "\n",
    "\n",
    "t1 = time.time()\n",
    "\n",
    "\n",
    "for epoch in range(3):\n",
    "    print('--- Epoch %d ---' % (epoch + 1))\n",
    "\n",
    "    permutation = np.random.permutation(len(train_images))\n",
    "    train_images = train_images[permutation]\n",
    "    train_labels = train_labels[permutation]\n",
    "    \n",
    "    loss = 0\n",
    "    num_correct = 0\n",
    "    for i, (im, label) in enumerate(zip(train_images, train_labels)):\n",
    "        l, acc = train(im, label)\n",
    "        loss += l\n",
    "        num_correct += acc\n",
    "        \n",
    "    print('after epoch' + str(epoch+1) + 'loss is ' + str(loss/1000) + 'accuracy is' + str(num_correct/1000))\n",
    "\n",
    "        \n",
    "        \n",
    "print('Testing on test data set')\n",
    "loss = 0\n",
    "num_correct = 0\n",
    "for im, label in zip(test_images, test_labels):\n",
    "    _, l, acc = forward(im, label)\n",
    "    loss += l\n",
    "    num_correct += acc\n",
    "\n",
    "    \n",
    "    \n",
    "num_tests = len(test_images)\n",
    "print('Loss on test dataset:', loss / num_tests)\n",
    "print(' Accuracy on test dataset:', num_correct / num_tests)\n",
    "\n",
    "t2 = time.time()\n",
    "\n",
    "print('total time taken is :' , t2 -t1)\n",
    "\n",
    "#print(conv.t_for_np_loops)\n",
    "print('time taken for forward prop is',conv.t_for_conv, ' seconds')\n",
    "print('time taken for forward prop is',conv.t_back_prop, ' seconds')"
   ]
  },
  {
   "cell_type": "markdown",
   "metadata": {},
   "source": [
    "# Ignore the blocks below"
   ]
  },
  {
   "cell_type": "code",
   "execution_count": 6,
   "metadata": {},
   "outputs": [
    {
     "name": "stdout",
     "output_type": "stream",
     "text": [
      "test cases: \n",
      "\n",
      " \n",
      "\n",
      "\n",
      "input image :\n"
     ]
    },
    {
     "data": {
      "text/plain": [
       "<Figure size 640x480 with 1 Axes>"
      ]
     },
     "metadata": {},
     "output_type": "display_data"
    },
    {
     "name": "stdout",
     "output_type": "stream",
     "text": [
      " predicted Output2\n",
      "\n",
      "\n",
      "input image :\n"
     ]
    },
    {
     "data": {
      "text/plain": [
       "<Figure size 640x480 with 1 Axes>"
      ]
     },
     "metadata": {},
     "output_type": "display_data"
    },
    {
     "name": "stdout",
     "output_type": "stream",
     "text": [
      " predicted Output4\n",
      "\n",
      "\n",
      "input image :\n"
     ]
    },
    {
     "data": {
      "text/plain": [
       "<Figure size 640x480 with 1 Axes>"
      ]
     },
     "metadata": {},
     "output_type": "display_data"
    },
    {
     "name": "stdout",
     "output_type": "stream",
     "text": [
      " predicted Output5\n",
      "\n",
      "\n",
      "input image :\n"
     ]
    },
    {
     "data": {
      "text/plain": [
       "<Figure size 640x480 with 1 Axes>"
      ]
     },
     "metadata": {},
     "output_type": "display_data"
    },
    {
     "name": "stdout",
     "output_type": "stream",
     "text": [
      " predicted Output5\n",
      "\n",
      "\n",
      "input image :\n"
     ]
    },
    {
     "data": {
      "text/plain": [
       "<Figure size 640x480 with 1 Axes>"
      ]
     },
     "metadata": {},
     "output_type": "display_data"
    },
    {
     "name": "stdout",
     "output_type": "stream",
     "text": [
      " predicted Output4\n",
      "\n",
      "\n",
      "input image :\n"
     ]
    },
    {
     "data": {
      "text/plain": [
       "<Figure size 640x480 with 1 Axes>"
      ]
     },
     "metadata": {},
     "output_type": "display_data"
    },
    {
     "name": "stdout",
     "output_type": "stream",
     "text": [
      " predicted Output1\n",
      "\n",
      "\n",
      "input image :\n"
     ]
    },
    {
     "data": {
      "text/plain": [
       "<Figure size 640x480 with 1 Axes>"
      ]
     },
     "metadata": {},
     "output_type": "display_data"
    },
    {
     "name": "stdout",
     "output_type": "stream",
     "text": [
      " predicted Output1\n"
     ]
    }
   ],
   "source": [
    "from random import randint\n",
    "from PIL import Image\n",
    "import matplotlib.pyplot as plt\n",
    "from matplotlib.pyplot import imshow, show\n",
    "\n",
    "def predict_out(image):\n",
    "    \n",
    "    out = conv.forward((image / 255) - 0.5)\n",
    "    out = pool.forward(out)\n",
    "    out = softmax.forward(out)\n",
    "    \n",
    "    return np.argmax(out)\n",
    "\n",
    "\n",
    "\n",
    "print(\"test cases: \\n\\n \")\n",
    "\n",
    "for j in range(7):\n",
    "    rand = randint(1000,2000)\n",
    "    print(\"\\n\\ninput image :\")\n",
    "    test_img = np.array(images_ts1[rand]).reshape(28,28)\n",
    "    imshow(test_img)\n",
    "    show()\n",
    "    \n",
    "    print(\" predicted Output\" , end = \"\")\n",
    "    print(predict_out(test_img))\n",
    "    \n",
    "    \n",
    "    "
   ]
  },
  {
   "cell_type": "code",
   "execution_count": 7,
   "metadata": {},
   "outputs": [
    {
     "name": "stdout",
     "output_type": "stream",
     "text": [
      "Input array :  [1, 2, 3.78, 4, 5.54, 6.6, 7, 8]\n",
      "Output array :  [2.   2.   3.78 4.   5.54 6.   6.   6.  ]\n"
     ]
    }
   ],
   "source": [
    "in_array = [1, 2, 3.78, 4, 5.54, 6.6, 7, 8 ] \n",
    "print (\"Input array : \", in_array) \n",
    "  \n",
    "out_array = np.clip(in_array, a_min = 2, a_max = 6) \n",
    "print (\"Output array : \", out_array) \n"
   ]
  },
  {
   "cell_type": "code",
   "execution_count": 8,
   "metadata": {},
   "outputs": [
    {
     "name": "stdout",
     "output_type": "stream",
     "text": [
      "[[[-0.13418057  0.05473408  0.02397852]\n",
      "  [ 0.22301843 -0.00775578  0.1543018 ]\n",
      "  [ 0.05514478 -0.11420193 -0.03089557]]\n",
      "\n",
      " [[-0.03014475  0.2175895  -0.08035515]\n",
      "  [-0.03620168 -0.06306285 -0.07655386]\n",
      "  [ 0.18747339 -0.06825308  0.05832685]]\n",
      "\n",
      " [[-0.2430731  -0.04246216 -0.0582466 ]\n",
      "  [-0.20858788 -0.02920913 -0.11558342]\n",
      "  [-0.12240005 -0.04662316 -0.02542909]]\n",
      "\n",
      " [[-0.0198415  -0.02781205  0.07268217]\n",
      "  [-0.08001157  0.13476291 -0.03711937]\n",
      "  [ 0.08289671  0.00061542  0.11181225]]\n",
      "\n",
      " [[ 0.12345655  0.03867507  0.10082984]\n",
      "  [-0.30230827 -0.0590996  -0.10371425]\n",
      "  [ 0.01629502  0.0156178   0.04448666]]\n",
      "\n",
      " [[-0.10074302 -0.04262166  0.1476819 ]\n",
      "  [-0.10159211  0.03823532 -0.08810532]\n",
      "  [ 0.05314499  0.045318    0.1243079 ]]\n",
      "\n",
      " [[ 0.07112613 -0.01825244 -0.15954592]\n",
      "  [-0.01216734  0.08590976 -0.04114128]\n",
      "  [ 0.04783625  0.21813266 -0.042864  ]]\n",
      "\n",
      " [[ 0.04651892  0.11231542  0.0482709 ]\n",
      "  [ 0.04883702 -0.11078608  0.04618817]\n",
      "  [-0.18954755 -0.04187727  0.05837648]]]\n",
      "\n",
      "\n",
      "3.3902621269226074\n"
     ]
    }
   ],
   "source": [
    "import math\n",
    "f = np.random.randn(8, 3, 3) / 9\n",
    "print(f)\n",
    "\n",
    "print('\\n')\n",
    "\n",
    "t3 = time.time()\n",
    "\n",
    "for i in range(5):\n",
    "    for i in range(1000):\n",
    "        \n",
    "        for i in range(len(f)):\n",
    "            #print('\\n')\n",
    "            #print(f[i])\n",
    "            #print('\\n')\n",
    "            for _ in range(4): \n",
    "\n",
    "                min = math.inf\n",
    "                for j in range(len(f[i])):\n",
    "                    for k in range(len(f[i][j])):\n",
    "                        if abs(f[i,j,k]) < min:\n",
    "                            min = abs(f[i,j,k])\n",
    "                            min_j = j\n",
    "                            min_k = k\n",
    "\n",
    "                f[i][min_j][min_k] = math.inf\n",
    "\n",
    "            for j in range(len(f[i])):\n",
    "                for k in range(len(f[i][j])):\n",
    "                    if f[i,j,k] == math.inf:\n",
    "                        f[i,j,k] = 0\n",
    "\n",
    "\n",
    "\n",
    "        for i in range(len(f)):\n",
    "\n",
    "            for j in range(len(f[i])):\n",
    "\n",
    "                for k in range(len(f[i][j])):\n",
    "\n",
    "                    if f[i,j,k] > 0 :\n",
    "                        f[i,j,k] = 1\n",
    "\n",
    "                    if f[i,j,k] < 0 :\n",
    "                        f[i,j,k] = -1\n",
    "                        \n",
    "\n",
    "for i in range(1000):\n",
    "        \n",
    "        for i in range(len(f)):\n",
    "            #print('\\n')\n",
    "            #print(f[i])\n",
    "            #print('\\n')\n",
    "            for _ in range(4): \n",
    "\n",
    "                min = math.inf\n",
    "                for j in range(len(f[i])):\n",
    "                    for k in range(len(f[i][j])):\n",
    "                        if abs(f[i,j,k]) < min:\n",
    "                            min = abs(f[i,j,k])\n",
    "                            min_j = j\n",
    "                            min_k = k\n",
    "\n",
    "                f[i][min_j][min_k] = math.inf\n",
    "\n",
    "            for j in range(len(f[i])):\n",
    "                for k in range(len(f[i][j])):\n",
    "                    if f[i,j,k] == math.inf:\n",
    "                        f[i,j,k] = 0\n",
    "\n",
    "\n",
    "\n",
    "        for i in range(len(f)):\n",
    "\n",
    "            for j in range(len(f[i])):\n",
    "\n",
    "                for k in range(len(f[i][j])):\n",
    "\n",
    "                    if f[i,j,k] > 0 :\n",
    "                        f[i,j,k] = 1\n",
    "\n",
    "                    if f[i,j,k] < 0 :\n",
    "                        f[i,j,k] = -1\n",
    "            \n",
    "\n",
    "t4 = time.time()\n",
    "\n",
    "print(t4 - t3)\n",
    "            \n",
    "    \n",
    "            "
   ]
  },
  {
   "cell_type": "code",
   "execution_count": 9,
   "metadata": {},
   "outputs": [
    {
     "name": "stdout",
     "output_type": "stream",
     "text": [
      "39.738919496536255\n"
     ]
    }
   ],
   "source": [
    "print(conv.t_back_prop)"
   ]
  },
  {
   "cell_type": "code",
   "execution_count": 10,
   "metadata": {},
   "outputs": [
    {
     "name": "stdout",
     "output_type": "stream",
     "text": [
      "94\n"
     ]
    }
   ],
   "source": [
    "img = train_images[57]/255\n",
    "a = np.argwhere(img > 0.3)\n",
    "print(len(a))"
   ]
  },
  {
   "cell_type": "code",
   "execution_count": null,
   "metadata": {},
   "outputs": [],
   "source": []
  },
  {
   "cell_type": "code",
   "execution_count": 11,
   "metadata": {},
   "outputs": [
    {
     "name": "stdout",
     "output_type": "stream",
     "text": [
      "[(2, 0)]\n",
      "[(0, 0)]\n",
      "[(0, 1)]\n",
      "[(0, 2), (1, 1), (1, 2)]\n",
      "Ternary Set Conversion:  [[ 0.   0.   0. ]\n",
      " [ 0.9  0.5  0.5]\n",
      " [ 0.  -0.6  0.8]]\n"
     ]
    }
   ],
   "source": [
    "import numpy as np\n",
    "p=.5\n",
    "def ternary_set_conv(weight_matrix):  \n",
    "    i=0\n",
    "    w = len(weight_matrix.flatten())\n",
    "    while(i<int(w*p)):\n",
    "        b=weight_matrix[weight_matrix!=0] #for remove 0 element and update in b\n",
    "        n = b.flat[np.abs(b-0).argmin()] #for value nearest to the 0\n",
    "        indexes=np.where(weight_matrix==n)\n",
    "        indexes1 = list(zip(indexes[0], indexes[1]))\n",
    "        print(indexes1)\n",
    "        weight_matrix[indexes1[0]]=0  \n",
    "        i=np.sum(weight_matrix==0)\n",
    "    return weight_matrix\n",
    "\n",
    "orignal_weight_matrix=np.array([[-0.2,0.3,0.5],\n",
    "                                [0.9,0.5,0.5],\n",
    "                                [0.1,-0.6,0.8]])\n",
    "# print(\"Origianl metrix: \", orignal_weight_matrix)\n",
    "\n",
    "print(\"Ternary Set Conversion: \", ternary_set_conv(orignal_weight_matrix))\n"
   ]
  },
  {
   "cell_type": "code",
   "execution_count": 12,
   "metadata": {},
   "outputs": [
    {
     "ename": "SyntaxError",
     "evalue": "invalid syntax (<ipython-input-12-dbd146599c34>, line 1)",
     "output_type": "error",
     "traceback": [
      "\u001b[1;36m  File \u001b[1;32m\"<ipython-input-12-dbd146599c34>\"\u001b[1;36m, line \u001b[1;32m1\u001b[0m\n\u001b[1;33m    --- Epoch 1 ---\u001b[0m\n\u001b[1;37m              ^\u001b[0m\n\u001b[1;31mSyntaxError\u001b[0m\u001b[1;31m:\u001b[0m invalid syntax\n"
     ]
    }
   ],
   "source": [
    "--- Epoch 1 ---\n",
    "after epoch1loss is 0.8006655156999186accuracy is0.76\n",
    "--- Epoch 2 ---\n",
    "after epoch2loss is 0.37451504937217084accuracy is0.887\n",
    "--- Epoch 3 ---\n",
    "after epoch3loss is 0.2749946300165077accuracy is0.93\n",
    "Testing on test data set\n",
    "Loss on test dataset: 0.4027378477931141\n",
    " Accuracy on test dataset: 0.877\n",
    "total time taken is : 508.10179257392883\n",
    "time taken for forward prop is 290.22868490219116  seconds\n",
    "time taken for forward prop is 171.6409204006195  seconds"
   ]
  }
 ],
 "metadata": {
  "kernelspec": {
   "display_name": "Python 3",
   "language": "python",
   "name": "python3"
  },
  "language_info": {
   "codemirror_mode": {
    "name": "ipython",
    "version": 3
   },
   "file_extension": ".py",
   "mimetype": "text/x-python",
   "name": "python",
   "nbconvert_exporter": "python",
   "pygments_lexer": "ipython3",
   "version": "3.7.4"
  }
 },
 "nbformat": 4,
 "nbformat_minor": 2
}
